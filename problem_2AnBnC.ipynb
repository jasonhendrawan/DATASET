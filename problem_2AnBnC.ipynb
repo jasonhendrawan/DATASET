{
  "cells": [
    {
      "cell_type": "code",
      "source": [],
      "metadata": {
        "id": "OTlLh6iEZLty"
      },
      "execution_count": null,
      "outputs": []
    },
    {
      "cell_type": "markdown",
      "metadata": {
        "id": "2_F_7v0LZG2e"
      },
      "source": [
        "## IMPORTING NECESSARY PYTHON LIBRARYS"
      ]
    },
    {
      "cell_type": "code",
      "execution_count": null,
      "metadata": {
        "id": "UbSDwnHJZG2f"
      },
      "outputs": [],
      "source": [
        "import numpy as np\n",
        "import matplotlib.pyplot as plt\n",
        "from os import listdir\n",
        "from os.path import join, isdir\n",
        "\n",
        "from tensorflow.keras.preprocessing import image as image_utils\n",
        "\n",
        "from sklearn.metrics import classification_report\n",
        "from sklearn.metrics import confusion_matrix"
      ]
    },
    {
      "cell_type": "markdown",
      "metadata": {
        "id": "ZC4STcN2ZG2g"
      },
      "source": [
        "### LOAD IMAGE DATASET FROM FOLDER"
      ]
    },
    {
      "cell_type": "code",
      "execution_count": null,
      "metadata": {
        "id": "hGOjTKehZG2g"
      },
      "outputs": [],
      "source": [
        "data_folder_path = 'CK+48'\n",
        "\n",
        "express_codes, file_paths = [], []\n",
        "for express in sorted(listdir(data_folder_path)):\n",
        "    folder_path = join(data_folder_path, express)\n",
        "    if not isdir(folder_path):\n",
        "            continue\n",
        "    paths = [join(folder_path, f) for f in listdir(folder_path)]\n",
        "    n_pictures = len(paths)\n",
        "    #express = express.replace('_', ' ')\n",
        "    express_codes.extend([express] * n_pictures)\n",
        "    file_paths.extend(paths)\n"
      ]
    },
    {
      "cell_type": "markdown",
      "metadata": {
        "id": "r_bkSa1DZG2h"
      },
      "source": [
        "### Iterate over the collected file path to load the jpeg files as numpy arrays"
      ]
    },
    {
      "cell_type": "code",
      "execution_count": null,
      "metadata": {
        "id": "9eR5IWG7ZG2h"
      },
      "outputs": [],
      "source": [
        "from keras.applications.vgg16 import preprocess_input\n",
        "n_face = len(file_paths)\n",
        "target_names = np.unique(express_codes)\n",
        "target = np.searchsorted(target_names, express_codes)\n",
        "\n",
        "face_img = np.zeros((n_face, 96, 96, 3), dtype=np.float32)\n",
        "for i, paths in enumerate(file_paths):\n",
        "    img = image_utils.load_img(paths, target_size=(96, 96))\n",
        "    img = image_utils.img_to_array(img)\n",
        "    img = np.expand_dims(img, axis=0)\n",
        "    img = preprocess_input(img)\n",
        "    face_img[i, ...] = img\n",
        ""
      ]
    },
    {
      "cell_type": "markdown",
      "metadata": {
        "id": "SxyoYAK7ZG2h"
      },
      "source": [
        "### The label to predict is the ID of the person"
      ]
    },
    {
      "cell_type": "code",
      "execution_count": null,
      "metadata": {
        "id": "B4arERS6ZG2h"
      },
      "outputs": [],
      "source": [
        "indices = np.arange(n_face)\n",
        "np.random.RandomState(42).shuffle(indices)\n",
        "face_img, target = face_img[indices], target[indices]\n",
        "\n",
        "n_samples, col, h, w = face_img.shape\n",
        "y = target\n",
        "n_classes = target_names.shape[0]\n",
        "\n",
        "print (\"----------------------------------\")\n",
        "print(\"Total dataset size:\")\n",
        "print(\"n_samples: %d\" % n_samples)\n",
        "print(\"n_classes: %d\" % n_classes)"
      ]
    },
    {
      "cell_type": "markdown",
      "metadata": {
        "id": "a5YaSjnMZG2h"
      },
      "source": [
        "### Now, split dataset for training and testing followed by setting the data value between 0 - 1"
      ]
    },
    {
      "cell_type": "code",
      "execution_count": null,
      "metadata": {
        "id": "tseLLUH_ZG2i"
      },
      "outputs": [],
      "source": [
        "from sklearn.model_selection import GridSearchCV, train_test_split\n",
        "X_train, X_test, y_train, y_test = train_test_split(face_img, y, test_size=0.2)\n",
        "print(\"x_train shape:\", X_train.shape, \"y_train shape:\", y_train.shape)\n",
        "print(\"x_test shape:\", X_test.shape, \"y_test shape:\", y_test.shape)\n",
        "\n",
        "X_train = X_train / 255.0\n",
        "X_test = X_test / 255.0\n"
      ]
    },
    {
      "cell_type": "markdown",
      "metadata": {
        "id": "hVKdftOJZG2i"
      },
      "source": [
        "### Getting deep features from Deep CNN."
      ]
    },
    {
      "cell_type": "code",
      "execution_count": null,
      "metadata": {
        "id": "yus7mBsYZG2i"
      },
      "outputs": [],
      "source": [
        "............................................................\n",
        "............................................................. etc"
      ]
    },
    {
      "cell_type": "markdown",
      "metadata": {
        "id": "pptq4f2CZG2i"
      },
      "source": [
        "### Reducing high dimensional features using PCA"
      ]
    },
    {
      "cell_type": "code",
      "execution_count": null,
      "metadata": {
        "id": "bLVgcddEZG2i"
      },
      "outputs": [],
      "source": [
        "...................................................."
      ]
    },
    {
      "cell_type": "markdown",
      "metadata": {
        "id": "EZr1ETOhZG2j"
      },
      "source": [
        "### Fitting the traning set to the Classifier"
      ]
    },
    {
      "cell_type": "code",
      "execution_count": null,
      "metadata": {
        "id": "XggfTEnvZG2j"
      },
      "outputs": [],
      "source": [
        "...............................................................etc"
      ]
    },
    {
      "cell_type": "markdown",
      "metadata": {
        "id": "vInBXG3FZG2j"
      },
      "source": [
        "## Report your classification results using a confusion matrix and classification accuracy."
      ]
    },
    {
      "cell_type": "code",
      "execution_count": null,
      "metadata": {
        "id": "gdIwnXcOZG2j"
      },
      "outputs": [],
      "source": [
        "t0 = time()\n",
        "y_pred = clf.predict(test_feats_pca)\n",
        "print(\"done in %0.3fs\" % (time() - t0))\n",
        "\n",
        "print(confusion_matrix(y_test, y_pred, labels=range(n_classes)))"
      ]
    },
    {
      "cell_type": "code",
      "execution_count": null,
      "metadata": {
        "id": "tq8vvDs-ZG2k"
      },
      "outputs": [],
      "source": [
        "print(classification_report(y_test, y_pred, target_names=None))"
      ]
    },
    {
      "cell_type": "code",
      "execution_count": null,
      "metadata": {
        "id": "ObmZNB5uZG2k"
      },
      "outputs": [],
      "source": [
        "def plot_gallery(images, titles, col, h, w, n_row=4, n_col=4):\n",
        "    ###Helper function to plot a gallery of portraits###\n",
        "    plt.figure(figsize=(1.8 * n_col, 2.4 * n_row))\n",
        "    plt.subplots_adjust(bottom=0, left=.01, right=.99, top=.90, hspace=.35)\n",
        "    for i in range(n_row * n_col):\n",
        "        image = images[i].reshape((col, h, w))\n",
        "        img = image_utils.array_to_img(image)\n",
        "        plt.subplot(n_row, n_col, i + 1)\n",
        "        plt.imshow(img, cmap=plt.cm.gray)\n",
        "        plt.title(titles[i], size=10)\n",
        "        plt.xticks(())\n",
        "        plt.yticks(())\n",
        "\n",
        "\n",
        "# plot the result of the prediction on a portion of the test set\n",
        "\n",
        "def title(y_pred, y_test, target_names, i):\n",
        "    pred_name = target_names[y_pred[i]].rsplit(' ', 1)[-1]\n",
        "    true_name = target_names[y_test[i]].rsplit(' ', 1)[-1]\n",
        "    return 'predicted: %s\\ntrue:      %s' % (pred_name, true_name)\n",
        "\n",
        "prediction_titles = [title(y_pred, y_test, target_names, i)\n",
        "                     for i in range(y_pred.shape[0])]\n",
        "\n",
        "plot_gallery(X_test, prediction_titles, col, h, w)"
      ]
    },
    {
      "cell_type": "markdown",
      "metadata": {
        "id": "Z1QnC24-ZG2k"
      },
      "source": [
        "## The following is the Deep Learning model used as classifier in place of SVM"
      ]
    },
    {
      "cell_type": "code",
      "execution_count": null,
      "metadata": {
        "id": "CdAS8pc0ZG2k"
      },
      "outputs": [],
      "source": [
        "...................................................................................."
      ]
    }
  ],
  "metadata": {
    "kernelspec": {
      "display_name": "Python 3",
      "language": "python",
      "name": "python3"
    },
    "language_info": {
      "codemirror_mode": {
        "name": "ipython",
        "version": 3
      },
      "file_extension": ".py",
      "mimetype": "text/x-python",
      "name": "python",
      "nbconvert_exporter": "python",
      "pygments_lexer": "ipython3",
      "version": "3.7.6"
    },
    "colab": {
      "provenance": []
    }
  },
  "nbformat": 4,
  "nbformat_minor": 0
}